{
 "cells": [
  {
   "cell_type": "code",
   "execution_count": 92,
   "metadata": {},
   "outputs": [
    {
     "ename": "ImportError",
     "evalue": "cannot import name 'dsolve_system' from 'sympy.solvers.ode.systems' (c:\\Users\\thomm\\AppData\\Local\\Programs\\Python\\Python311\\Lib\\site-packages\\sympy\\solvers\\ode\\systems.py)",
     "output_type": "error",
     "traceback": [
      "\u001b[1;31m---------------------------------------------------------------------------\u001b[0m",
      "\u001b[1;31mImportError\u001b[0m                               Traceback (most recent call last)",
      "Cell \u001b[1;32mIn[92], line 2\u001b[0m\n\u001b[0;32m      1\u001b[0m \u001b[38;5;28;01mimport\u001b[39;00m \u001b[38;5;21;01msympy\u001b[39;00m \u001b[38;5;28;01mas\u001b[39;00m \u001b[38;5;21;01msmp\u001b[39;00m\n\u001b[1;32m----> 2\u001b[0m \u001b[38;5;28;01mfrom\u001b[39;00m \u001b[38;5;21;01msympy\u001b[39;00m\u001b[38;5;21;01m.\u001b[39;00m\u001b[38;5;21;01msolvers\u001b[39;00m\u001b[38;5;21;01m.\u001b[39;00m\u001b[38;5;21;01mode\u001b[39;00m\u001b[38;5;21;01m.\u001b[39;00m\u001b[38;5;21;01msystems\u001b[39;00m \u001b[38;5;28;01mimport\u001b[39;00m dsolve_system\n",
      "\u001b[1;31mImportError\u001b[0m: cannot import name 'dsolve_system' from 'sympy.solvers.ode.systems' (c:\\Users\\thomm\\AppData\\Local\\Programs\\Python\\Python311\\Lib\\site-packages\\sympy\\solvers\\ode\\systems.py)"
     ]
    }
   ],
   "source": [
    "import sympy as smp\n",
    "from sympy.solvers.ode.systems import dsolve_system\n",
    "\n"
   ]
  },
  {
   "cell_type": "code",
   "execution_count": 82,
   "metadata": {},
   "outputs": [
    {
     "data": {
      "text/latex": [
       "$\\displaystyle \\alpha$"
      ],
      "text/plain": [
       "alpha"
      ]
     },
     "execution_count": 82,
     "metadata": {},
     "output_type": "execute_result"
    }
   ],
   "source": [
    "x, y, t, al = smp.symbols('x, y, t, alpha')\n",
    "al"
   ]
  },
  {
   "cell_type": "code",
   "execution_count": 83,
   "metadata": {},
   "outputs": [
    {
     "data": {
      "text/latex": [
       "$\\displaystyle T{\\left(x,y,t \\right)}$"
      ],
      "text/plain": [
       "T(x, y, t)"
      ]
     },
     "execution_count": 83,
     "metadata": {},
     "output_type": "execute_result"
    }
   ],
   "source": [
    "T = smp.symbols('T', cls = smp.Function)\n",
    "T = T(x,y,t)\n",
    "T"
   ]
  },
  {
   "cell_type": "code",
   "execution_count": 84,
   "metadata": {},
   "outputs": [
    {
     "data": {
      "text/latex": [
       "$\\displaystyle \\frac{\\partial^{2}}{\\partial x^{2}} T{\\left(x,y,t \\right)}$"
      ],
      "text/plain": [
       "Derivative(T(x, y, t), (x, 2))"
      ]
     },
     "execution_count": 84,
     "metadata": {},
     "output_type": "execute_result"
    }
   ],
   "source": [
    "# Differential equation\n",
    "d2Tdx2 = smp.diff(T,x,x)\n",
    "d2Tdx2"
   ]
  },
  {
   "cell_type": "code",
   "execution_count": 85,
   "metadata": {},
   "outputs": [
    {
     "data": {
      "text/latex": [
       "$\\displaystyle \\frac{\\partial^{2}}{\\partial y^{2}} T{\\left(x,y,t \\right)}$"
      ],
      "text/plain": [
       "Derivative(T(x, y, t), (y, 2))"
      ]
     },
     "execution_count": 85,
     "metadata": {},
     "output_type": "execute_result"
    }
   ],
   "source": [
    "# Differential equation\n",
    "d2Tdy2 = smp.diff(T,y,y)\n",
    "d2Tdy2"
   ]
  },
  {
   "cell_type": "code",
   "execution_count": 86,
   "metadata": {},
   "outputs": [
    {
     "data": {
      "text/latex": [
       "$\\displaystyle \\frac{\\partial}{\\partial t} T{\\left(x,y,t \\right)}$"
      ],
      "text/plain": [
       "Derivative(T(x, y, t), t)"
      ]
     },
     "execution_count": 86,
     "metadata": {},
     "output_type": "execute_result"
    }
   ],
   "source": [
    "dTdt = smp.diff(T,t)\n",
    "dTdt"
   ]
  },
  {
   "cell_type": "code",
   "execution_count": 87,
   "metadata": {},
   "outputs": [
    {
     "data": {
      "text/latex": [
       "$\\displaystyle \\frac{\\partial^{2}}{\\partial x^{2}} T{\\left(x,y,t \\right)} + \\frac{\\partial^{2}}{\\partial y^{2}} T{\\left(x,y,t \\right)} = \\frac{\\frac{\\partial}{\\partial t} T{\\left(x,y,t \\right)}}{\\alpha}$"
      ],
      "text/plain": [
       "Eq(Derivative(T(x, y, t), (x, 2)) + Derivative(T(x, y, t), (y, 2)), Derivative(T(x, y, t), t)/alpha)"
      ]
     },
     "execution_count": 87,
     "metadata": {},
     "output_type": "execute_result"
    }
   ],
   "source": [
    "diffEq = smp.Eq(d2Tdx2 + d2Tdy2, 1/al * dTdt)\n",
    "diffEq"
   ]
  },
  {
   "cell_type": "code",
   "execution_count": 88,
   "metadata": {},
   "outputs": [
    {
     "data": {
      "text/latex": [
       "$\\displaystyle C{\\left(t \\right)}$"
      ],
      "text/plain": [
       "C(t)"
      ]
     },
     "execution_count": 88,
     "metadata": {},
     "output_type": "execute_result"
    }
   ],
   "source": [
    "A, B, C = smp.symbols('A,B,C', cls=smp.Function)\n",
    "A = A(x)\n",
    "B = B(y)\n",
    "C = C(t)\n",
    "C"
   ]
  },
  {
   "cell_type": "code",
   "execution_count": 89,
   "metadata": {},
   "outputs": [
    {
     "data": {
      "text/latex": [
       "$\\displaystyle \\frac{\\partial^{2}}{\\partial x^{2}} A{\\left(x \\right)} B{\\left(y \\right)} C{\\left(t \\right)} + \\frac{\\partial^{2}}{\\partial y^{2}} A{\\left(x \\right)} B{\\left(y \\right)} C{\\left(t \\right)} = \\frac{\\frac{\\partial}{\\partial t} A{\\left(x \\right)} B{\\left(y \\right)} C{\\left(t \\right)}}{\\alpha}$"
      ],
      "text/plain": [
       "Eq(Derivative(A(x)*B(y)*C(t), (x, 2)) + Derivative(A(x)*B(y)*C(t), (y, 2)), Derivative(A(x)*B(y)*C(t), t)/alpha)"
      ]
     },
     "execution_count": 89,
     "metadata": {},
     "output_type": "execute_result"
    }
   ],
   "source": [
    "Eq1 = diffEq.subs({T: A*B*C})\n",
    "Eq1"
   ]
  },
  {
   "cell_type": "code",
   "execution_count": 90,
   "metadata": {},
   "outputs": [
    {
     "data": {
      "text/latex": [
       "$\\displaystyle \\frac{\\frac{d^{2}}{d y^{2}} B{\\left(y \\right)}}{B{\\left(y \\right)}} + \\frac{\\frac{d^{2}}{d x^{2}} A{\\left(x \\right)}}{A{\\left(x \\right)}} = \\frac{\\frac{d}{d t} C{\\left(t \\right)}}{\\alpha C{\\left(t \\right)}}$"
      ],
      "text/plain": [
       "Eq(Derivative(B(y), (y, 2))/B(y) + Derivative(A(x), (x, 2))/A(x), Derivative(C(t), t)/(alpha*C(t)))"
      ]
     },
     "execution_count": 90,
     "metadata": {},
     "output_type": "execute_result"
    }
   ],
   "source": [
    "Eq2 = smp.Eq(smp.simplify((Eq1.lhs/(A*B*C))).expand(), smp.simplify(Eq1.rhs/(A*B*C)))\n",
    "Eq2"
   ]
  },
  {
   "cell_type": "code",
   "execution_count": 101,
   "metadata": {},
   "outputs": [
    {
     "data": {
      "text/latex": [
       "$\\displaystyle \\frac{\\frac{d}{d t} C{\\left(t \\right)}}{\\alpha C{\\left(t \\right)}} = a^{2}$"
      ],
      "text/plain": [
       "Eq(Derivative(C(t), t)/(alpha*C(t)), a**2)"
      ]
     },
     "execution_count": 101,
     "metadata": {},
     "output_type": "execute_result"
    }
   ],
   "source": [
    "a = smp.symbols('a')\n",
    "f = smp.symbols('f', cls=smp.Function)\n",
    "f = f(x,y)\n",
    "Eqt = smp.Eq(Eq2.rhs, a**2)\n",
    "Eqt"
   ]
  },
  {
   "cell_type": "code",
   "execution_count": 102,
   "metadata": {},
   "outputs": [
    {
     "data": {
      "text/latex": [
       "$\\displaystyle C{\\left(t \\right)} = e^{\\alpha \\left(C_{1} + a^{2} t\\right)}$"
      ],
      "text/plain": [
       "Eq(C(t), exp(alpha*(C1 + a**2*t)))"
      ]
     },
     "execution_count": 102,
     "metadata": {},
     "output_type": "execute_result"
    }
   ],
   "source": [
    "smp.dsolve(Eqt)"
   ]
  }
 ],
 "metadata": {
  "kernelspec": {
   "display_name": "Python 3",
   "language": "python",
   "name": "python3"
  },
  "language_info": {
   "codemirror_mode": {
    "name": "ipython",
    "version": 3
   },
   "file_extension": ".py",
   "mimetype": "text/x-python",
   "name": "python",
   "nbconvert_exporter": "python",
   "pygments_lexer": "ipython3",
   "version": "3.11.3"
  }
 },
 "nbformat": 4,
 "nbformat_minor": 2
}
